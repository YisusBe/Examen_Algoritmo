{
  "nbformat": 4,
  "nbformat_minor": 0,
  "metadata": {
    "colab": {
      "provenance": [],
      "authorship_tag": "ABX9TyPNrSDRdlt1ibKVCmCDOYbZ",
      "include_colab_link": true
    },
    "kernelspec": {
      "name": "python3",
      "display_name": "Python 3"
    },
    "language_info": {
      "name": "python"
    }
  },
  "cells": [
    {
      "cell_type": "markdown",
      "metadata": {
        "id": "view-in-github",
        "colab_type": "text"
      },
      "source": [
        "<a href=\"https://colab.research.google.com/github/YisusBe/ProyectodePrueba/blob/main/Untitled7.ipynb\" target=\"_parent\"><img src=\"https://colab.research.google.com/assets/colab-badge.svg\" alt=\"Open In Colab\"/></a>"
      ]
    },
    {
      "cell_type": "code",
      "execution_count": null,
      "metadata": {
        "colab": {
          "base_uri": "https://localhost:8080/"
        },
        "id": "GatlkWKpiBZi",
        "outputId": "95fee02d-4596-4780-a6f9-70e2981fd5f9"
      },
      "outputs": [
        {
          "output_type": "stream",
          "name": "stdout",
          "text": [
            "Ingrese el primer numero: 12\n",
            "Ingrese el segundo numero: 32\n",
            "Ingrese el tercer numero: 23\n",
            "El numero mayor es: 32\n"
          ]
        }
      ],
      "source": [
        "numero1 = int(input(\"Ingrese el primer numero: \"))\n",
        "numero2 = int(input(\"Ingrese el segundo numero: \"))\n",
        "numero3 = int(input(\"Ingrese el tercer numero: \"))\n",
        "\n",
        "numeromayor = max(numero1, numero2, numero3)\n",
        "\n",
        "print(\"El numero mayor es:\",(numeromayor))"
      ]
    },
    {
      "cell_type": "code",
      "source": [
        "ingreso = float(input(\"Ingrese el ingreso anual: \"))\n",
        "impuesto = 0\n",
        "\n",
        "if ingreso < 85.528:\n",
        "    impuesto = round(ingreso * 0.18) - 556.2\n",
        "else:\n",
        "    impuesto = round(14839.2 + (ingreso - 85.528) * 0.32)\n",
        "\n",
        "print(\"El impuesto es:\", impuesto)\n",
        "#codigo de chat gpt"
      ],
      "metadata": {
        "colab": {
          "base_uri": "https://localhost:8080/"
        },
        "id": "e-OzFNef612I",
        "outputId": "c22cc4d3-fbc3-4d48-b8dd-1f7116ab11c0"
      },
      "execution_count": null,
      "outputs": [
        {
          "output_type": "stream",
          "name": "stdout",
          "text": [
            "Ingrese el ingreso anual: 90000\n",
            "El impuesto es: 43612\n"
          ]
        }
      ]
    },
    {
      "cell_type": "code",
      "source": [
        "#codigo que hize yo y tengo que revisar si esta bien\n",
        "ingreso=float(input(\"Ingrese el ingreso anual:\" ))\n",
        "impuesto=0\n",
        "\n",
        "if ingreso <= 85528:\n",
        "    impuesto = round((ingreso*0.18)-556.2)\n",
        "\n",
        "else:\n",
        "    impuesto = round(14839.2 + (ingreso - 85528) * 0.32)\n",
        "if impuesto < 0:\n",
        "   impuesto = 0\n",
        "\n",
        "print(\"El impuesto es: \", impuesto )\n",
        "#ya esta corregido y esta bien"
      ],
      "metadata": {
        "id": "5JSZIKxp8x9u",
        "colab": {
          "base_uri": "https://localhost:8080/"
        },
        "outputId": "aeea78a0-ddf6-4ed1-e64d-f9287e032df1"
      },
      "execution_count": null,
      "outputs": [
        {
          "output_type": "stream",
          "name": "stdout",
          "text": [
            "Ingrese el ingreso anual:10000\n",
            "El impuesto es:  1244\n"
          ]
        }
      ]
    },
    {
      "cell_type": "code",
      "source": [
        "#otro ejercicio de cisco como saber si el año es bisiesto , comun o bisiesto\n",
        "\n",
        "año = int(input(\"Introduzca un año:\"))\n",
        "\n",
        "if año < 1582:\n",
        "\tprint(\"No dentro del período del calendario gregoriano\")\n",
        "else:\n",
        "     if año % 4 != 0:\n",
        "          print(\"Año común\")\n",
        "     elif año % 100 != 0:\n",
        "          print(\"Año bisiesto\")\n",
        "     elif año % 400 != 0:\n",
        "          print(\"Año común\")\n",
        "     else:\n",
        "          print(\"Año bisiesto\")"
      ],
      "metadata": {
        "id": "ETRrrnUBdmsu"
      },
      "execution_count": null,
      "outputs": []
    },
    {
      "cell_type": "code",
      "source": [
        "# Almacenaremos el número más grande actual aquí\n",
        "numeroMayor = -999999999\n",
        "\n",
        "# Ingresa el primer valor\n",
        "numero = int(input (\"Introduzca un número o escriba -1 para detener:\"))\n",
        "\n",
        "# Si el número no es igual a -1, continuaremos\n",
        "while numero != -1:\n",
        "    # ¿Es el número más grande que el número más grande?\n",
        "    if numero > numeroMayor:\n",
        "        # Sí si, actualiza el mayor númeroNúmero\n",
        "        numeroMayor = numero\n",
        "    # Ingresa el siguiente número\n",
        "    numero = int (input(\"Introduce un número o escribe -1 para detener2:\"))\n",
        "\n",
        "# Imprimir el número más grande\n",
        "print(\"El número más grande es:\", numeroMayor)"
      ],
      "metadata": {
        "colab": {
          "base_uri": "https://localhost:8080/"
        },
        "id": "j_YyJQI0f-y5",
        "outputId": "be080add-1397-40f2-b372-92419cf35cdf"
      },
      "execution_count": null,
      "outputs": [
        {
          "output_type": "stream",
          "name": "stdout",
          "text": [
            "Introduzca un número o escriba -1 para detener:12\n",
            "Introduce un número o escribe -1 para detener2:54\n",
            "Introduce un número o escribe -1 para detener2:213\n",
            "Introduce un número o escribe -1 para detener2:54\n",
            "Introduce un número o escribe -1 para detener2:2563\n",
            "Introduce un número o escribe -1 para detener2:7\n",
            "Introduce un número o escribe -1 para detener2:-1\n",
            "El número más grande es: 2563\n"
          ]
        }
      ]
    },
    {
      "cell_type": "code",
      "source": [],
      "metadata": {
        "id": "91pg9dQnD_QQ"
      },
      "execution_count": null,
      "outputs": []
    },
    {
      "cell_type": "code",
      "source": [
        "#pedrile que ingrese dos numeros enteros positivos entre 3 y 6\n",
        "#EJERCICIO 1\n",
        "def ingresar_numeros_enteros(msg):\n",
        "  while True:                                   #este while se encrga de que no pueda avanzar hasta que el if sea verdadero\n",
        "    try:                                        #este try se encarga de que si coloca una letra no se caiga\n",
        "      numero = int(input(msg))\n",
        "      if numero >= 3 and numero <= 6:\n",
        "        return numero                          #regresa el num que se escribio\n",
        "      else:\n",
        "        print(\"El numero debe estar en el rango entre 3 y 6, intente de nuevo. \")\n",
        "    except:\n",
        "      print(\"Debe ingresar un numero entero\")\n",
        "\n",
        "def crear_matriz(filas, columnas):\n",
        "  matriz = []\n",
        "  for f in range(filas):\n",
        "    fila = []\n",
        "    for c in range(columnas):\n",
        "      numero = float(input(\"Ingrese un numero decimal para la matriz: \"))\n",
        "      fila.append(numero)\n",
        "    matriz.append(fila)\n",
        "  return matriz\n",
        "\n",
        "def mostrar_matriz(matriz):\n",
        "  print(\"Arreglo Poblado: \")\n",
        "  for fila in matriz:\n",
        "    print(fila)\n",
        "\n",
        "def sumar_filas(matriz):\n",
        "  suma_fila =[]\n",
        "  for fila in matriz:\n",
        "    suma = sum(fila)\n",
        "    suma_fila.append(suma)\n",
        "  return suma_fila\n",
        "\n",
        "def promediar_columnas(matriz):    #esto es para que la matriz se recorra en vertical en vez de horizontal\n",
        "  promedio_columna = []\n",
        "  num_columnas = len(matriz[0])\n",
        "  for c in range(num_columnas):\n",
        "    columna = [fila[c] for fila in matriz]\n",
        "    promedio = sum(columna) / len(columna) #para saber el largo de una lista o una array\n",
        "    promedio_columna.append(promedio)\n",
        "  return promedio_columna\n",
        "\n",
        "\n",
        "\n",
        "fila = ingresar_numeros_enteros(\"Ingrese el numero de filas (entre el 3 y 6): \")\n",
        "columna = ingresar_numeros_enteros(\"Ingrese el numero de columnas (entre el 3 y 6): \")\n",
        "mat = crear_matriz(fila, columna)\n",
        "mostrar_matriz(mat)\n",
        "print(\"\")\n",
        "print(\"La suma de las filas es: \")\n",
        "sumas = sumar_filas(mat)\n",
        "print(sumas)\n",
        "print(\"\")\n",
        "print(\"El promedio de las columnas es: \")\n",
        "prom = promediar_columnas(mat)\n",
        "print(prom)\n",
        "\n"
      ],
      "metadata": {
        "id": "rTl_HQiWtfVl",
        "colab": {
          "base_uri": "https://localhost:8080/"
        },
        "outputId": "72e1299e-290f-47ef-c116-ab6a47527cae"
      },
      "execution_count": null,
      "outputs": [
        {
          "output_type": "stream",
          "name": "stdout",
          "text": [
            "Ingrese el numero de filas (entre el 3 y 6): 3\n",
            "Ingrese el numero de columnas (entre el 3 y 6): 3\n",
            "Ingrese un numero decimal para la matriz: 1\n",
            "Ingrese un numero decimal para la matriz: 2\n",
            "Ingrese un numero decimal para la matriz: 3\n",
            "Ingrese un numero decimal para la matriz: 4\n",
            "Ingrese un numero decimal para la matriz: 5\n",
            "Ingrese un numero decimal para la matriz: 6\n",
            "Ingrese un numero decimal para la matriz: 7\n",
            "Ingrese un numero decimal para la matriz: 8\n",
            "Ingrese un numero decimal para la matriz: 9\n",
            "Arreglo Poblado: \n",
            "[1.0, 2.0, 3.0]\n",
            "[4.0, 5.0, 6.0]\n",
            "[7.0, 8.0, 9.0]\n",
            "\n",
            "La suma de las filas es: \n",
            "[6.0, 15.0, 24.0]\n",
            "\n",
            "El promedio de las columnas es: \n",
            "[4.0, 5.0, 6.0]\n"
          ]
        }
      ]
    },
    {
      "cell_type": "code",
      "source": [
        "#EJERCICIO GATO\n",
        "matriz[]\n",
        "fila = 0\n",
        "columna = 0\n",
        "player1 = \"0\"\n",
        "player2 = \"x\"\n",
        "for i in range(3):\n",
        "  matriz.append([\" \"]*3)\n",
        "\n"
      ],
      "metadata": {
        "id": "3MYJMh4OUbf2"
      },
      "execution_count": null,
      "outputs": []
    }
  ]
}