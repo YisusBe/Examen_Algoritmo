{
  "nbformat": 4,
  "nbformat_minor": 0,
  "metadata": {
    "colab": {
      "provenance": [],
      "mount_file_id": "1MJg-uePgYRj7rZ3qlDSYfJgOJTY61n2V",
      "authorship_tag": "ABX9TyN7a1CfdX/0C+yOj2rqO74X",
      "include_colab_link": true
    },
    "kernelspec": {
      "name": "python3",
      "display_name": "Python 3"
    },
    "language_info": {
      "name": "python"
    }
  },
  "cells": [
    {
      "cell_type": "markdown",
      "metadata": {
        "id": "view-in-github",
        "colab_type": "text"
      },
      "source": [
        "<a href=\"https://colab.research.google.com/github/YisusBe/ProyectodePrueba/blob/main/Copia_de_Untitled6.ipynb\" target=\"_parent\"><img src=\"https://colab.research.google.com/assets/colab-badge.svg\" alt=\"Open In Colab\"/></a>"
      ]
    },
    {
      "cell_type": "code",
      "execution_count": null,
      "metadata": {
        "id": "cibT5juwSKaJ"
      },
      "outputs": [],
      "source": [
        "'''import numpy as np\n",
        "a = [1, 2, 3, 4, 5, 6]\n",
        "print (a)\n",
        "\n",
        "b = np.array(a)\n",
        "print(b)\n",
        "\n",
        "print(b.ndim) #para ver que dimencion es\n",
        "\n",
        "print(len(b)) # esto es para ver su largo\n",
        "b.shape # para ver cuantos elementos tiene\n",
        "\n",
        "print(b[-1])\n",
        "\n",
        "\n",
        "#c = [i for i in b]\n",
        "#print(c)\n",
        "\n",
        "\n",
        "for i in range (len(b)):\n",
        "  print('posicion: ', i ,'valor: ', b[i]) # como recorrer un array\n",
        "\n",
        "\n",
        "d = np.arange(10)\n",
        "print(d)\n",
        "d = d + 1\n",
        "\n",
        "f = d[:].copy()\n",
        "f[0] = 100\n",
        "print(f)\n",
        "print(d)\n",
        "\n",
        "e = np.ones(8, dtype = int)\n",
        "e = e + 1\n",
        "print(e)\n",
        "\n",
        "arreglo1 = np.array([2, 8, 5, 9])\n",
        "arreglo2 = np.array([2, 4, 4, 10]) #estos solo funcionan si ambos tienen la misma cantidad de digitos en este caso 4\n",
        "suma = arreglo1 + arreglo2 # se puede preguntar si es <, >, == y tambien +, -, /, *\n",
        "print(suma)\n",
        "\n",
        "\n",
        "arreglo1 = np.array([2, 3, 5, 9])# esto sirv para usar todos los numeros en casos como: *, -, +, promedio, el valor (min), valor(max), y promedios(mean)\n",
        "print(arreglo1.sum())'''"
      ]
    },
    {
      "cell_type": "code",
      "source": [
        "import numpy as np #importar la libreria numpy para poder trabajar\n",
        "lista = [[3,4,5], [6,7,8]]\n",
        "matriz = np.array(lista)# matriz con un solo elemento que contiene ambos datos\n",
        "print(matriz[0,::-1])# se muestra la matriz, y el 0,2 es una cordenada en este caso el 3 seria el 0 y el 5 seria el 2, con el : solo te escribe un lado, y con ::-1 te lo escribe invertido\n",
        "'''for i in range(2):\n",
        "  for j in range(3):\n",
        "    print(matriz[i][j]) #aqui inicia de manera 0,0-0,1-0,2---1,0-1,1-1,2'''\n"
      ],
      "metadata": {
        "id": "Z7tZi2aND9lL"
      },
      "execution_count": null,
      "outputs": []
    },
    {
      "cell_type": "code",
      "source": [
        "import numpy as np\n",
        "matriz = np.diag((3,3,3))\n",
        "print(matriz)#"
      ],
      "metadata": {
        "colab": {
          "base_uri": "https://localhost:8080/"
        },
        "id": "QTcrOqgPLv9Y",
        "outputId": "5e4d575e-83be-4790-a7de-79873e2cfc9e"
      },
      "execution_count": null,
      "outputs": [
        {
          "output_type": "stream",
          "name": "stdout",
          "text": [
            "[[3 0 0]\n",
            " [0 3 0]\n",
            " [0 0 3]]\n"
          ]
        }
      ]
    },
    {
      "cell_type": "code",
      "source": [
        "#clase dia 08/06/2023\n",
        "def resolverfuncion(x):\n",
        "  resultado = (2 * x) + 5\n",
        "  return resultado\n",
        "\n",
        "def mostrarmenu():\n",
        "  print(\"***Menu***\")\n",
        "  print(\"1. Opcion 1\")\n",
        "  print(\"2. Opcion 2\")\n",
        "  print(\"3. Opcion 3\")\n",
        "  print(\"4. Salir\")\n",
        "\n",
        "def funcionA(nom):\n",
        "    print(nom)\n",
        "\n",
        "\n",
        "def funcionB(num1, num2, num3=0, num4=0):#aqui le digo que la funcion b va a tener 4 numeros en ella, y le coloco el = 0 para que si falta entregar un numero lo cuente como un 0\n",
        "    suma = num1 + num2 + num3 + num4#aqui le digo que va a sumar los 4 numeros que le entregue yo\n",
        "    return suma\n",
        "\n",
        "mostrarmenu()\n",
        "c = resolverecuacion(10)\n",
        "print(c)\n",
        "funcionA(\"Leonel\")\n",
        "d = funcionB(5, 10, 15, 20)#aqui le entrego los valores para que los sume\n",
        "print(d)"
      ],
      "metadata": {
        "colab": {
          "base_uri": "https://localhost:8080/"
        },
        "id": "lo9Y9rVXXp04",
        "outputId": "cea044e6-5472-4c18-bc77-b8f6944c2e7b"
      },
      "execution_count": null,
      "outputs": [
        {
          "output_type": "stream",
          "name": "stdout",
          "text": [
            "***Menu***\n",
            "1. Opcion 1\n",
            "2. Opcion 2\n",
            "3. Opcion 3\n",
            "4. Salir\n",
            "None\n",
            "Leonel\n",
            "50\n"
          ]
        }
      ]
    },
    {
      "cell_type": "code",
      "source": [
        "#para sacar de valor bruto a neto\n",
        "global numeroBoleta\n",
        "global IVA\n",
        "numeroBoleta = 0\n",
        "IVA = 1.19\n",
        "def ImprimirBoleta(vNeto):\n",
        "\n",
        "  vBruto =vNeto * 1.19\n",
        "  print(\"El valor total es: \",vBruto)\n",
        "  numeroBoleta +=1\n",
        "  return numeroBoleta\n",
        "\n",
        "\n",
        "\n",
        "c = ImprimirBoleta(1000)\n",
        "print(c)\n",
        "\n",
        "d = ImprimirBoleta(2000)\n",
        "print(d)"
      ],
      "metadata": {
        "colab": {
          "base_uri": "https://localhost:8080/"
        },
        "id": "GHnFTG3XeH_O",
        "outputId": "082c274b-b5fb-43f5-f9ff-b9a492bd1632"
      },
      "execution_count": null,
      "outputs": [
        {
          "output_type": "stream",
          "name": "stdout",
          "text": [
            "El valor total es:  1190.0\n",
            "1\n",
            "El valor total es:  2380.0\n",
            "1\n"
          ]
        }
      ]
    },
    {
      "cell_type": "code",
      "source": [
        "#ejercicio 1 Repaso Para la Prueba\n",
        "\n",
        "g"
      ],
      "metadata": {
        "id": "uJYwIjcGBsIZ"
      },
      "execution_count": null,
      "outputs": []
    }
  ]
}